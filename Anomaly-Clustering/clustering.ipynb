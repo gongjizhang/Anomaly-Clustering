{
 "cells": [
  {
   "cell_type": "code",
   "execution_count": 64,
   "metadata": {},
   "outputs": [],
   "source": [
    "import os\n",
    "import csv\n",
    "from sklearn import metrics, cluster\n",
    "from sklearn.preprocessing import LabelEncoder\n",
    "\n",
    "import matplotlib.pyplot as plt\n",
    "import math\n",
    "import PIL\n",
    "from PIL import Image\n",
    "import argparse\n",
    "import shutil\n",
    "import pandas as pd \n",
    "\n",
    "from torchvision import transforms\n",
    "import logging\n",
    "import os\n",
    "import pickle\n",
    "\n",
    "import numpy as np\n",
    "import torch\n",
    "import torch.nn.functional as F\n",
    "from tqdm import tqdm\n",
    "from sklearn.manifold import TSNE\n",
    "import matplotlib.pyplot as plt \n",
    "\n",
    "import models.patchcore as patchcore\n",
    "import models.patchcore.backbones\n",
    "import models.patchcore.common\n",
    "import models.patchcore.sampler\n",
    "import models.patchcore.datasets.mvtec as mvtec\n",
    "from models.patchcore.datasets.mvtec import IMAGENET_MEAN, IMAGENET_STD\n",
    "from models.patchcore.utils import Matrix_Alpha_Unsupervised, Matrix_Alpha_Supervised\n",
    "from models.patchcore.patchcore import AnomalyClusteringCore  # This is originated from PatchCore and it is modified a little bit.\n",
    "# import test\n",
    "from utils.bricks import same_seeds\n",
    "\n",
    "from munkres import Munkres\n",
    "LOGGER = logging.getLogger(__name__)\n",
    "import warnings\n",
    "warnings.filterwarnings(\"ignore\")\n",
    "\n",
    "device = torch.device(\"cuda:0\" if torch.cuda.is_available() else \"cpu\")\n",
    "# device = \"cpu\"\n",
    "\n",
    "\n",
    "\n",
    "def visualize(image, feature_PIL, alpha_PIL, name, image_name):\n",
    "    # 使用pillow库读取图片\n",
    "    fig = plt.figure(figsize=(12, 4))\n",
    "    # process = transforms.Compose([transforms.Resize([256, 256]),\n",
    "    #                               transforms.CenterCrop(224)])\n",
    "\n",
    "    # img = Image.open(image_path[0]).convert(\"RGB\")\n",
    "    # img = process(img)\n",
    "    ax1 = fig.add_subplot(131)\n",
    "    ax1.imshow(image)\n",
    "\n",
    "    ax2 = fig.add_subplot(132)\n",
    "    ax2.imshow(feature_PIL)\n",
    "    \n",
    "    ax3 = fig.add_subplot(133)\n",
    "    ax3.imshow(alpha_PIL)\n",
    "    os.makedirs(\"out\\\\\" + name + \"\\\\visualize\", exist_ok=True)\n",
    "\n",
    "    fname = os.path.join(\"out\\\\\" + name, \"visualize\", image_name)\n",
    "    plt.savefig(fname)\n",
    "    print(f\"{fname} saved.\")\n",
    "\n",
    "def best_map(L1, L2):\n",
    "    # L1 should be the labels and L2 should be the clustering number we got\n",
    "    Label1 = np.unique(L1)       # 去除重复的元素，由小大大排列\n",
    "    nClass1 = len(Label1)        # 标签的大小\n",
    "    Label2 = np.unique(L2)\n",
    "    nClass2 = len(Label2)\n",
    "    nClass = np.maximum(nClass1, nClass2)\n",
    "    G = np.zeros((nClass, nClass))\n",
    "    for i in range(nClass1):\n",
    "        ind_cla1 = L1 == Label1[i]\n",
    "        ind_cla1 = ind_cla1.astype(float)\n",
    "        for j in range(nClass2):\n",
    "            ind_cla2 = L2 == Label2[j]\n",
    "            ind_cla2 = ind_cla2.astype(float)\n",
    "            G[i, j] = np.sum(ind_cla2 * ind_cla1)\n",
    "    m = Munkres()\n",
    "    index = m.compute(-G.T)\n",
    "    index = np.array(index)\n",
    "    c = index[:, 1]\n",
    "    newL2 = np.zeros(L2.shape)\n",
    "    for i in range(nClass2):\n",
    "        newL2[L2 == Label2[i]] = Label1[c[i]]\n",
    "    return newL2"
   ]
  },
  {
   "cell_type": "code",
   "execution_count": 80,
   "metadata": {},
   "outputs": [],
   "source": [
    "\n",
    "classname = 'leather'\n",
    "path = 'data/mvtec_ad'\n",
    "# 参数赋值\n",
    "pretrain_embed_dimension = 2048\n",
    "target_embed_dimension = 4096\n",
    "backbone_names = \"dino_vitbase8\"\n",
    "layers_to_extract_from = [\"blocks.10\", \"blocks.11\"]\n",
    "# layers_to_extract_from = [\"blocks.2\",\"blocks.3\"]\n",
    "patchsize = 3\n",
    "tau = 1\n",
    "supervised = \"supervised\"\n",
    "train_ratio = 1\n",
    "dataset = 'mvtec_ad'\n",
    "\n",
    "train_ratio = train_ratio\n",
    "save_path = \"outputs\" + \"/\" + dataset + \"/\" + backbone_names + \"/\" + supervised\n",
    "os.makedirs(save_path, exist_ok=True)\n",
    "\n",
    "# 参数初始化\n",
    "faiss_on_gpu = True\n",
    "faiss_num_workers = 4\n",
    "input_shape = (3, 224, 224)\n",
    "anomaly_scorer_num_nn = 5\n",
    "sampler = patchcore.sampler.IdentitySampler()\n",
    "backbone_seed = None\n",
    "backbone_name = backbone_names\n",
    "\n",
    "loaded_patchcores = []\n",
    "\n",
    "# 加载数据集，dataloader\n",
    "test_dataset = mvtec.MVTecDataset(source=path, split=mvtec.DatasetSplit.TEST,\n",
    "                                    classname=classname, resize=256, imagesize=224)\n",
    "test_dataloader = torch.utils.data.DataLoader(\n",
    "    test_dataset,\n",
    "    batch_size=1,\n",
    "    shuffle=False,\n",
    "    num_workers=0,\n",
    "    pin_memory=True,\n",
    ")\n",
    "\n",
    "if \".seed-\" in backbone_name:\n",
    "    backbone_name, backbone_seed = backbone_name.split(\".seed-\")[0], int(\n",
    "        backbone_name.split(\"-\")[-1]\n",
    "    )\n",
    "backbone = patchcore.backbones.load(backbone_name)\n",
    "backbone.name, backbone.seed = backbone_name, backbone_seed\n",
    "\n",
    "nn_method = patchcore.common.FaissNN(faiss_on_gpu, faiss_num_workers)\n",
    "\n",
    "# 实例化模型对象\n",
    "anomalyclusteringcore_instance = AnomalyClusteringCore(device)\n",
    "anomalyclusteringcore_instance.load(\n",
    "    backbone=backbone,\n",
    "    layers_to_extract_from=layers_to_extract_from,\n",
    "    device=device,\n",
    "    input_shape=input_shape,\n",
    "    pretrain_embed_dimension=pretrain_embed_dimension,\n",
    "    target_embed_dimension=target_embed_dimension,\n",
    "    patchsize=patchsize,\n",
    "    featuresampler=sampler,\n",
    "    anomaly_scorer_num_nn=anomaly_scorer_num_nn,\n",
    "    nn_method=nn_method,\n",
    ")\n",
    "\n",
    "    "
   ]
  },
  {
   "cell_type": "code",
   "execution_count": 84,
   "metadata": {},
   "outputs": [],
   "source": [
    "for image in test_dataloader:\n",
    "    print(image)"
   ]
  },
  {
   "cell_type": "code",
   "execution_count": 66,
   "metadata": {},
   "outputs": [
    {
     "name": "stdout",
     "output_type": "stream",
     "text": [
      "--------------------------------attention weight--------------------------------\n"
     ]
    },
    {
     "name": "stderr",
     "output_type": "stream",
     "text": [
      "0it [00:00, ?it/s]\n"
     ]
    },
    {
     "ename": "RuntimeError",
     "evalue": "torch.cat(): expected a non-empty list of Tensors",
     "output_type": "error",
     "traceback": [
      "\u001b[1;31m---------------------------------------------------------------------------\u001b[0m",
      "\u001b[1;31mRuntimeError\u001b[0m                              Traceback (most recent call last)",
      "\u001b[1;32me:\\project\\blade\\Anomaly-Clustering\\Anomaly-Clustering\\clustering.ipynb Cell 3\u001b[0m in \u001b[0;36m<cell line: 3>\u001b[1;34m()\u001b[0m\n\u001b[0;32m      <a href='vscode-notebook-cell:/e%3A/project/blade/Anomaly-Clustering/Anomaly-Clustering/clustering.ipynb#W2sZmlsZQ%3D%3D?line=0'>1</a>\u001b[0m \u001b[39m# embedding\u001b[39;00m\n\u001b[0;32m      <a href='vscode-notebook-cell:/e%3A/project/blade/Anomaly-Clustering/Anomaly-Clustering/clustering.ipynb#W2sZmlsZQ%3D%3D?line=1'>2</a>\u001b[0m Alpha \u001b[39m=\u001b[39m anomalyclusteringcore_instance\u001b[39m.\u001b[39mattentionweight(test_dataloader)\n\u001b[1;32m----> <a href='vscode-notebook-cell:/e%3A/project/blade/Anomaly-Clustering/Anomaly-Clustering/clustering.ipynb#W2sZmlsZQ%3D%3D?line=2'>3</a>\u001b[0m Alpha \u001b[39m=\u001b[39m torch\u001b[39m.\u001b[39;49mcat(Alpha, dim\u001b[39m=\u001b[39;49m\u001b[39m0\u001b[39;49m)\u001b[39m.\u001b[39mreshape([\u001b[39mlen\u001b[39m(Alpha),\u001b[39m1\u001b[39m,\u001b[39m-\u001b[39m\u001b[39m1\u001b[39m])\u001b[39m.\u001b[39mfloat()\u001b[39m.\u001b[39mto(device)\n\u001b[0;32m      <a href='vscode-notebook-cell:/e%3A/project/blade/Anomaly-Clustering/Anomaly-Clustering/clustering.ipynb#W2sZmlsZQ%3D%3D?line=3'>4</a>\u001b[0m Z, label_test \u001b[39m=\u001b[39m anomalyclusteringcore_instance\u001b[39m.\u001b[39membed(test_dataloader, supervised)\n\u001b[0;32m      <a href='vscode-notebook-cell:/e%3A/project/blade/Anomaly-Clustering/Anomaly-Clustering/clustering.ipynb#W2sZmlsZQ%3D%3D?line=4'>5</a>\u001b[0m Z \u001b[39m=\u001b[39m torch\u001b[39m.\u001b[39mtensor(Z)\u001b[39m.\u001b[39mto(device)\n",
      "\u001b[1;31mRuntimeError\u001b[0m: torch.cat(): expected a non-empty list of Tensors"
     ]
    }
   ],
   "source": [
    "# embedding\n",
    "Alpha = anomalyclusteringcore_instance.attentionweight(test_dataloader)\n",
    "Alpha = torch.cat(Alpha, dim=0).reshape([len(Alpha),1,-1]).float().to(device)\n",
    "Z, label_test = anomalyclusteringcore_instance.embed(test_dataloader, supervised)\n",
    "Z = torch.tensor(Z).to(device)\n",
    "X = np.array(torch.bmm(Alpha, Z, out=None).squeeze(1).cpu())"
   ]
  },
  {
   "cell_type": "code",
   "execution_count": 82,
   "metadata": {},
   "outputs": [],
   "source": [
    "# featuremap visualize\n",
    "unloader = transforms.ToPILImage()\n",
    "for i, image_info in enumerate(test_dataloader):\n",
    "    Z_i = torch.mean(Z[i], dim=1)\n",
    "    max_Z_i = max(Z_i)\n",
    "    min_Z_i = min(Z_i)\n",
    "    Z_i = Z_i.reshape(int(math.sqrt(len(Z_i))),\n",
    "                      int(math.sqrt(len(Z_i)))).cpu().clone()\n",
    "    Z_i = (Z_i - min_Z_i) / (max_Z_i - min_Z_i)\n",
    "    # we clone the tensor to not do changes on it\n",
    "    Z_i_PIL = unloader(Z_i)\n",
    "    \n",
    "    Alpha_i = torch.squeeze(Alpha[i])\n",
    "    Alpha_i = Alpha_i.reshape(int(math.sqrt(len(Alpha_i))),\n",
    "                int(math.sqrt(len(Alpha_i)))).cpu().clone()\n",
    "    Alpha_i_PIL = unloader(Alpha_i)\n",
    "    image = torch.squeeze(image_info['image'])\n",
    "    \n",
    "    image[0,:,:] = image[0,:,:] * IMAGENET_STD[0] + IMAGENET_MEAN[0]\n",
    "    image[1,:,:] = image[1,:,:] * IMAGENET_STD[1] + IMAGENET_MEAN[1]\n",
    "    image[2,:,:] = image[2,:,:] * IMAGENET_STD[2] + IMAGENET_MEAN[2]\n",
    "    image_PIL = unloader(image)\n",
    "    visualize(image_PIL, Z_i_PIL,Alpha_i_PIL\n",
    "                    ,backbone_names[0] + \"_\" + str(pretrain_embed_dimension) + \"_\" +\n",
    "                    str(target_embed_dimension) + \"_\" + \"_\".join(layers_to_extract_from),\n",
    "                    os.path.basename(image_info['image_path'][0]))"
   ]
  },
  {
   "cell_type": "code",
   "execution_count": 83,
   "metadata": {},
   "outputs": [
    {
     "name": "stderr",
     "output_type": "stream",
     "text": [
      "0it [00:00, ?it/s]\n"
     ]
    },
    {
     "ename": "ValueError",
     "evalue": "n_clusters should be an integer greater than 0. 0 was provided.",
     "output_type": "error",
     "traceback": [
      "\u001b[1;31m---------------------------------------------------------------------------\u001b[0m",
      "\u001b[1;31mValueError\u001b[0m                                Traceback (most recent call last)",
      "\u001b[1;32me:\\project\\blade\\Anomaly-Clustering\\Anomaly-Clustering\\clustering.ipynb Cell 6\u001b[0m in \u001b[0;36m<cell line: 15>\u001b[1;34m()\u001b[0m\n\u001b[0;32m     <a href='vscode-notebook-cell:/e%3A/project/blade/Anomaly-Clustering/Anomaly-Clustering/clustering.ipynb#W4sZmlsZQ%3D%3D?line=11'>12</a>\u001b[0m n_clusters \u001b[39m=\u001b[39m \u001b[39mlen\u001b[39m(\u001b[39mset\u001b[39m(label))\n\u001b[0;32m     <a href='vscode-notebook-cell:/e%3A/project/blade/Anomaly-Clustering/Anomaly-Clustering/clustering.ipynb#W4sZmlsZQ%3D%3D?line=12'>13</a>\u001b[0m model \u001b[39m=\u001b[39m cluster\u001b[39m.\u001b[39mAgglomerativeClustering(n_clusters\u001b[39m=\u001b[39mn_clusters)\n\u001b[1;32m---> <a href='vscode-notebook-cell:/e%3A/project/blade/Anomaly-Clustering/Anomaly-Clustering/clustering.ipynb#W4sZmlsZQ%3D%3D?line=14'>15</a>\u001b[0m predict \u001b[39m=\u001b[39m model\u001b[39m.\u001b[39;49mfit_predict(X)\n\u001b[0;32m     <a href='vscode-notebook-cell:/e%3A/project/blade/Anomaly-Clustering/Anomaly-Clustering/clustering.ipynb#W4sZmlsZQ%3D%3D?line=15'>16</a>\u001b[0m \u001b[39m# predict = best_map(label, predict).astype(int)\u001b[39;00m\n\u001b[0;32m     <a href='vscode-notebook-cell:/e%3A/project/blade/Anomaly-Clustering/Anomaly-Clustering/clustering.ipynb#W4sZmlsZQ%3D%3D?line=17'>18</a>\u001b[0m NMI \u001b[39m=\u001b[39m metrics\u001b[39m.\u001b[39mnormalized_mutual_info_score(label, predict)\n",
      "File \u001b[1;32mc:\\Users\\COLORFUL\\anaconda3\\envs\\clustering\\lib\\site-packages\\sklearn\\cluster\\_agglomerative.py:1051\u001b[0m, in \u001b[0;36mAgglomerativeClustering.fit_predict\u001b[1;34m(self, X, y)\u001b[0m\n\u001b[0;32m   1030\u001b[0m \u001b[39mdef\u001b[39;00m \u001b[39mfit_predict\u001b[39m(\u001b[39mself\u001b[39m, X, y\u001b[39m=\u001b[39m\u001b[39mNone\u001b[39;00m):\n\u001b[0;32m   1031\u001b[0m     \u001b[39m\"\"\"Fit and return the result of each sample's clustering assignment.\u001b[39;00m\n\u001b[0;32m   1032\u001b[0m \n\u001b[0;32m   1033\u001b[0m \u001b[39m    In addition to fitting, this method also return the result of the\u001b[39;00m\n\u001b[1;32m   (...)\u001b[0m\n\u001b[0;32m   1049\u001b[0m \u001b[39m        Cluster labels.\u001b[39;00m\n\u001b[0;32m   1050\u001b[0m \u001b[39m    \"\"\"\u001b[39;00m\n\u001b[1;32m-> 1051\u001b[0m     \u001b[39mreturn\u001b[39;00m \u001b[39msuper\u001b[39;49m()\u001b[39m.\u001b[39;49mfit_predict(X, y)\n",
      "File \u001b[1;32mc:\\Users\\COLORFUL\\anaconda3\\envs\\clustering\\lib\\site-packages\\sklearn\\base.py:751\u001b[0m, in \u001b[0;36mClusterMixin.fit_predict\u001b[1;34m(self, X, y)\u001b[0m\n\u001b[0;32m    733\u001b[0m \u001b[39m\"\"\"\u001b[39;00m\n\u001b[0;32m    734\u001b[0m \u001b[39mPerform clustering on `X` and returns cluster labels.\u001b[39;00m\n\u001b[0;32m    735\u001b[0m \n\u001b[1;32m   (...)\u001b[0m\n\u001b[0;32m    747\u001b[0m \u001b[39m    Cluster labels.\u001b[39;00m\n\u001b[0;32m    748\u001b[0m \u001b[39m\"\"\"\u001b[39;00m\n\u001b[0;32m    749\u001b[0m \u001b[39m# non-optimized default implementation; override when a better\u001b[39;00m\n\u001b[0;32m    750\u001b[0m \u001b[39m# method is possible for a given clustering algorithm\u001b[39;00m\n\u001b[1;32m--> 751\u001b[0m \u001b[39mself\u001b[39;49m\u001b[39m.\u001b[39;49mfit(X)\n\u001b[0;32m    752\u001b[0m \u001b[39mreturn\u001b[39;00m \u001b[39mself\u001b[39m\u001b[39m.\u001b[39mlabels_\n",
      "File \u001b[1;32mc:\\Users\\COLORFUL\\anaconda3\\envs\\clustering\\lib\\site-packages\\sklearn\\cluster\\_agglomerative.py:915\u001b[0m, in \u001b[0;36mAgglomerativeClustering.fit\u001b[1;34m(self, X, y)\u001b[0m\n\u001b[0;32m    897\u001b[0m \u001b[39m\"\"\"Fit the hierarchical clustering from features, or distance matrix.\u001b[39;00m\n\u001b[0;32m    898\u001b[0m \n\u001b[0;32m    899\u001b[0m \u001b[39mParameters\u001b[39;00m\n\u001b[1;32m   (...)\u001b[0m\n\u001b[0;32m    912\u001b[0m \u001b[39m    Returns the fitted instance.\u001b[39;00m\n\u001b[0;32m    913\u001b[0m \u001b[39m\"\"\"\u001b[39;00m\n\u001b[0;32m    914\u001b[0m X \u001b[39m=\u001b[39m \u001b[39mself\u001b[39m\u001b[39m.\u001b[39m_validate_data(X, ensure_min_samples\u001b[39m=\u001b[39m\u001b[39m2\u001b[39m)\n\u001b[1;32m--> 915\u001b[0m \u001b[39mreturn\u001b[39;00m \u001b[39mself\u001b[39;49m\u001b[39m.\u001b[39;49m_fit(X)\n",
      "File \u001b[1;32mc:\\Users\\COLORFUL\\anaconda3\\envs\\clustering\\lib\\site-packages\\sklearn\\cluster\\_agglomerative.py:934\u001b[0m, in \u001b[0;36mAgglomerativeClustering._fit\u001b[1;34m(self, X)\u001b[0m\n\u001b[0;32m    931\u001b[0m memory \u001b[39m=\u001b[39m check_memory(\u001b[39mself\u001b[39m\u001b[39m.\u001b[39mmemory)\n\u001b[0;32m    933\u001b[0m \u001b[39mif\u001b[39;00m \u001b[39mself\u001b[39m\u001b[39m.\u001b[39mn_clusters \u001b[39mis\u001b[39;00m \u001b[39mnot\u001b[39;00m \u001b[39mNone\u001b[39;00m \u001b[39mand\u001b[39;00m \u001b[39mself\u001b[39m\u001b[39m.\u001b[39mn_clusters \u001b[39m<\u001b[39m\u001b[39m=\u001b[39m \u001b[39m0\u001b[39m:\n\u001b[1;32m--> 934\u001b[0m     \u001b[39mraise\u001b[39;00m \u001b[39mValueError\u001b[39;00m(\n\u001b[0;32m    935\u001b[0m         \u001b[39m\"\u001b[39m\u001b[39mn_clusters should be an integer greater than 0. \u001b[39m\u001b[39m%s\u001b[39;00m\u001b[39m was provided.\u001b[39m\u001b[39m\"\u001b[39m\n\u001b[0;32m    936\u001b[0m         \u001b[39m%\u001b[39m \u001b[39mstr\u001b[39m(\u001b[39mself\u001b[39m\u001b[39m.\u001b[39mn_clusters)\n\u001b[0;32m    937\u001b[0m     )\n\u001b[0;32m    939\u001b[0m \u001b[39mif\u001b[39;00m \u001b[39mnot\u001b[39;00m ((\u001b[39mself\u001b[39m\u001b[39m.\u001b[39mn_clusters \u001b[39mis\u001b[39;00m \u001b[39mNone\u001b[39;00m) \u001b[39m^\u001b[39m (\u001b[39mself\u001b[39m\u001b[39m.\u001b[39mdistance_threshold \u001b[39mis\u001b[39;00m \u001b[39mNone\u001b[39;00m)):\n\u001b[0;32m    940\u001b[0m     \u001b[39mraise\u001b[39;00m \u001b[39mValueError\u001b[39;00m(\n\u001b[0;32m    941\u001b[0m         \u001b[39m\"\u001b[39m\u001b[39mExactly one of n_clusters and \u001b[39m\u001b[39m\"\u001b[39m\n\u001b[0;32m    942\u001b[0m         \u001b[39m\"\u001b[39m\u001b[39mdistance_threshold has to be set, and the other \u001b[39m\u001b[39m\"\u001b[39m\n\u001b[0;32m    943\u001b[0m         \u001b[39m\"\u001b[39m\u001b[39mneeds to be None.\u001b[39m\u001b[39m\"\u001b[39m\n\u001b[0;32m    944\u001b[0m     )\n",
      "\u001b[1;31mValueError\u001b[0m: n_clusters should be an integer greater than 0. 0 was provided."
     ]
    }
   ],
   "source": [
    "# clustering\n",
    "le = LabelEncoder()\n",
    "label = []\n",
    "with tqdm(total=len(test_dataloader)) as progress:\n",
    "    for image in test_dataloader:\n",
    "        if isinstance(image, dict):\n",
    "            anomaly = image[\"anomaly\"]\n",
    "        with torch.no_grad():\n",
    "            label.append(anomaly)\n",
    "        progress.update(1)\n",
    "label = le.fit_transform(label).astype(int)\n",
    "n_clusters = len(set(label))\n",
    "model = cluster.AgglomerativeClustering(n_clusters=n_clusters)\n",
    "\n",
    "predict = model.fit_predict(X)\n",
    "# predict = best_map(label, predict).astype(int)\n",
    "\n",
    "NMI = metrics.normalized_mutual_info_score(label, predict)\n",
    "ARI = metrics.adjusted_rand_score(label, predict)\n",
    "F1 = metrics.f1_score(label, predict, average=\"micro\")\n",
    "print(f'NMI: {NMI}')\n",
    "print(f'ARI: {ARI}')\n",
    "print(f'F1:{F1}\\n')\n",
    "\n"
   ]
  },
  {
   "cell_type": "code",
   "execution_count": null,
   "metadata": {},
   "outputs": [],
   "source": [
    "# 将图片分类到不同文件夹\n",
    "with tqdm(total=len(test_dataloader)) as progress:\n",
    "    for i, image in enumerate(test_dataloader):\n",
    "        predict_cur = predict[i]\n",
    "        old_file_path = image[\"image_path\"][0]\n",
    "        file_name = os.path.basename(old_file_path)\n",
    "        new_file_path = os.path.join(\"out\\\\\" + dataset + \"/\" + backbone_names[0] + \"_\" + str(pretrain_embed_dimension) + \"_\" +\n",
    "                                    str(target_embed_dimension) + \"_\" + \"_\".join(layers_to_extract_from), image[\"classname\"][0], str(predict_cur))\n",
    "        # 如果路径不存在，则创建\n",
    "        if not os.path.exists(new_file_path):\n",
    "            os.makedirs(new_file_path)\n",
    "        # 新文件位置\n",
    "        new_file_path = os.path.join(new_file_path, image[\"anomaly\"][0] + \"_\" + file_name)\n",
    "        print(str(i) + \" 正在将 \" + old_file_path + \" 复制到 \" + new_file_path)\n",
    "        # 复制文件\n",
    "        shutil.copyfile(old_file_path, new_file_path)\n",
    "        \n",
    "\n"
   ]
  },
  {
   "cell_type": "code",
   "execution_count": 52,
   "metadata": {},
   "outputs": [
    {
     "data": {
      "image/png": "[encoded data removed]",
      "text/plain": [
       "<Figure size 640x480 with 1 Axes>"
      ]
     },
     "metadata": {},
     "output_type": "display_data"
    }
   ],
   "source": [
    "# TSNE\n",
    "tsne=TSNE(n_components=2,random_state=2023)\n",
    "tsne.fit_transform(X)\n",
    "\n",
    "tsne=pd.DataFrame(tsne.embedding_) #转换数据格式\n",
    "\n",
    "\n",
    "color = ['r.','go','b*','k.','co','y*','c.','mo']\n",
    "for c in range(n_clusters):\n",
    "    d = tsne[predict==c]\n",
    "    plt.plot(d[0],d[1],color[c])\n",
    "plt.show()"
   ]
  },
  {
   "cell_type": "code",
   "execution_count": 54,
   "metadata": {},
   "outputs": [
    {
     "data": {
      "image/png": "[encoded data removed]",
      "text/plain": [
       "<Figure size 640x480 with 1 Axes>"
      ]
     },
     "metadata": {},
     "output_type": "display_data"
    }
   ],
   "source": [
    "for c in range(n_clusters):\n",
    "    d = tsne[label==c]\n",
    "    plt.plot(d[0],d[1],color[c])\n",
    "plt.show()"
   ]
  },
  {
   "cell_type": "code",
   "execution_count": 36,
   "metadata": {},
   "outputs": [],
   "source": []
  },
  {
   "cell_type": "code",
   "execution_count": null,
   "metadata": {},
   "outputs": [],
   "source": []
  },
  {
   "cell_type": "code",
   "execution_count": null,
   "metadata": {},
   "outputs": [],
   "source": []
  },
  {
   "cell_type": "code",
   "execution_count": null,
   "metadata": {},
   "outputs": [],
   "source": []
  },
  {
   "cell_type": "code",
   "execution_count": null,
   "metadata": {},
   "outputs": [],
   "source": []
  },
  {
   "cell_type": "code",
   "execution_count": null,
   "metadata": {},
   "outputs": [],
   "source": []
  },
  {
   "cell_type": "code",
   "execution_count": null,
   "metadata": {},
   "outputs": [],
   "source": []
  }
 ],
 "metadata": {
  "kernelspec": {
   "display_name": "clustering",
   "language": "python",
   "name": "python3"
  },
  "language_info": {
   "codemirror_mode": {
    "name": "ipython",
    "version": 3
   },
   "file_extension": ".py",
   "mimetype": "text/x-python",
   "name": "python",
   "nbconvert_exporter": "python",
   "pygments_lexer": "ipython3",
   "version": "3.9.18"
  },
  "orig_nbformat": 4,
  "vscode": {
   "interpreter": {
    "hash": "efceee7b2c0bd0ad8c03b25f0364c3e3cd78ad864552b7eef67780d44da2219d"
   }
  }
 },
 "nbformat": 4,
 "nbformat_minor": 2
}
