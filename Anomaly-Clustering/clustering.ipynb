{
 "cells": [
  {
   "cell_type": "code",
   "execution_count": 1,
   "metadata": {},
   "outputs": [
    {
     "name": "stderr",
     "output_type": "stream",
     "text": [
      "c:\\Users\\COLORFUL\\anaconda3\\envs\\megaAL\\lib\\site-packages\\tqdm\\auto.py:22: TqdmWarning: IProgress not found. Please update jupyter and ipywidgets. See https://ipywidgets.readthedocs.io/en/stable/user_install.html\n",
      "  from .autonotebook import tqdm as notebook_tqdm\n"
     ]
    }
   ],
   "source": [
    "import os\n",
    "import csv\n",
    "from sklearn import metrics, cluster\n",
    "from sklearn.preprocessing import LabelEncoder\n",
    "\n",
    "import matplotlib.pyplot as plt\n",
    "import math\n",
    "import PIL\n",
    "from PIL import Image\n",
    "import argparse\n",
    "import shutil\n",
    "import pandas as pd \n",
    "\n",
    "from torchvision import transforms\n",
    "import logging\n",
    "import os\n",
    "import pickle\n",
    "\n",
    "import numpy as np\n",
    "import torch\n",
    "import torch.nn.functional as F\n",
    "from tqdm import tqdm\n",
    "from sklearn.manifold import TSNE\n",
    "import matplotlib.pyplot as plt \n",
    "\n",
    "import models.patchcore as patchcore\n",
    "import models.patchcore.backbones\n",
    "import models.patchcore.common\n",
    "import models.patchcore.sampler\n",
    "import models.patchcore.datasets.mvtec as mvtec\n",
    "from models.patchcore.datasets.mvtec import IMAGENET_MEAN, IMAGENET_STD\n",
    "from models.patchcore.utils import Matrix_Alpha_Unsupervised, Matrix_Alpha_Supervised\n",
    "from models.patchcore.patchcore import AnomalyClusteringCore  # This is originated from PatchCore and it is modified a little bit.\n",
    "# import test\n",
    "from utils.bricks import same_seeds \n",
    "\n",
    "from munkres import Munkres\n",
    "LOGGER = logging.getLogger(__name__)\n",
    "import warnings\n",
    "warnings.filterwarnings(\"ignore\")\n",
    "\n",
    "device = torch.device(\"cuda:0\" if torch.cuda.is_available() else \"cpu\")\n",
    "# device = \"cpu\""
   ]
  },
  {
   "cell_type": "code",
   "execution_count": 4,
   "metadata": {},
   "outputs": [],
   "source": [
    "import torch"
   ]
  },
  {
   "cell_type": "code",
   "execution_count": null,
   "metadata": {},
   "outputs": [],
   "source": []
  },
  {
   "cell_type": "code",
   "execution_count": null,
   "metadata": {},
   "outputs": [],
   "source": [
    "def visualize(image, feature_PIL, alpha_PIL, name, image_name):\n",
    "    # 使用pillow库读取图片\n",
    "    fig = plt.figure(figsize=(12, 4))\n",
    "    ax1 = fig.add_subplot(131)\n",
    "    ax1.imshow(image)\n",
    "\n",
    "    ax2 = fig.add_subplot(132)\n",
    "    ax2.imshow(feature_PIL)\n",
    "    \n",
    "    ax3 = fig.add_subplot(133)\n",
    "    ax3.imshow(alpha_PIL)\n",
    "    os.makedirs(\"out\\\\\" + name + \"\\\\visualize\", exist_ok=True)\n",
    "\n",
    "    fname = os.path.join(\"out\\\\\" + name, \"visualize\", image_name)\n",
    "    plt.savefig(fname)\n",
    "    print(f\"{fname} saved.\")\n",
    "\n",
    "def best_map(L1, L2):\n",
    "    # L1 should be the labels and L2 should be the clustering number we got\n",
    "    Label1 = np.unique(L1)       # 去除重复的元素，由小大大排列\n",
    "    nClass1 = len(Label1)        # 标签的大小\n",
    "    Label2 = np.unique(L2)\n",
    "    nClass2 = len(Label2)\n",
    "    nClass = np.maximum(nClass1, nClass2)\n",
    "    G = np.zeros((nClass, nClass))\n",
    "    for i in range(nClass1):\n",
    "        ind_cla1 = L1 == Label1[i]\n",
    "        ind_cla1 = ind_cla1.astype(float)\n",
    "        for j in range(nClass2):\n",
    "            ind_cla2 = L2 == Label2[j]\n",
    "            ind_cla2 = ind_cla2.astype(float)\n",
    "            G[i, j] = np.sum(ind_cla2 * ind_cla1)\n",
    "    m = Munkres()\n",
    "    index = m.compute(-G.T)\n",
    "    index = np.array(index)\n",
    "    c = index[:, 1]\n",
    "    newL2 = np.zeros(L2.shape)\n",
    "    for i in range(nClass2):\n",
    "        newL2[L2 == Label2[i]] = Label1[c[i]]\n",
    "    return newL2"
   ]
  },
  {
   "cell_type": "code",
   "execution_count": 161,
   "metadata": {},
   "outputs": [],
   "source": [
    "classname = 'tile'\n",
    "path = 'data/mvtec_ad'\n",
    "# 参数赋值\n",
    "pretrain_embed_dimension = 2048\n",
    "target_embed_dimension = 4096\n",
    "# backbone_names = \"dino_vitbase8\"\n",
    "backbone_names = \"wideresnet50\"\n",
    "# layers_to_extract_from = [\"blocks.11\"]\n",
    "layers_to_extract_from = [\"layer2\"]\n",
    "patchsize = 3\n",
    "tau = 100\n",
    "supervised = \"supervised\"\n",
    "train_ratio = 1\n",
    "dataset = 'mvtec_ad'\n",
    "\n",
    "save_path = \"outputs\" + \"/\" + dataset + \"/\" + backbone_names + \"/\" + supervised\n",
    "os.makedirs(save_path, exist_ok=True)\n",
    "\n",
    "# 参数初始化\n",
    "faiss_on_gpu = True\n",
    "faiss_num_workers = 4\n",
    "input_shape = (3, 224, 224)\n",
    "anomaly_scorer_num_nn = 5\n",
    "sampler = patchcore.sampler.IdentitySampler()\n",
    "backbone_seed = None\n",
    "backbone_name = backbone_names\n",
    "\n",
    "loaded_patchcores = []\n",
    "\n",
    "# 加载数据集，dataloader\n",
    "test_dataset = mvtec.MVTecDataset(source=path, split=mvtec.DatasetSplit.TEST,\n",
    "                                    classname=classname, resize=256, imagesize=224)\n",
    "test_dataloader = torch.utils.data.DataLoader(\n",
    "    test_dataset,\n",
    "    batch_size=1,\n",
    "    shuffle=False,\n",
    "    num_workers=0,\n",
    "    pin_memory=True,\n",
    ")\n",
    "\n",
    "if \".seed-\" in backbone_name:\n",
    "    backbone_name, backbone_seed = backbone_name.split(\".seed-\")[0], int(\n",
    "        backbone_name.split(\"-\")[-1]\n",
    "    )\n",
    "backbone = patchcore.backbones.load(backbone_name)\n",
    "backbone.name, backbone.seed = backbone_name, backbone_seed\n",
    "\n",
    "nn_method = patchcore.common.FaissNN(faiss_on_gpu, faiss_num_workers)\n",
    "\n",
    "# 实例化模型对象\n",
    "anomalyclusteringcore_instance = AnomalyClusteringCore(device)\n",
    "anomalyclusteringcore_instance.load(\n",
    "    backbone=backbone,\n",
    "    layers_to_extract_from=layers_to_extract_from,\n",
    "    device=device,\n",
    "    input_shape=input_shape,\n",
    "    pretrain_embed_dimension=pretrain_embed_dimension,\n",
    "    target_embed_dimension=target_embed_dimension,\n",
    "    patchsize=patchsize,\n",
    "    featuresampler=sampler,\n",
    "    anomaly_scorer_num_nn=anomaly_scorer_num_nn,\n",
    "    nn_method=nn_method,\n",
    ")"
   ]
  },
  {
   "cell_type": "code",
   "execution_count": 58,
   "metadata": {},
   "outputs": [
    {
     "name": "stdout",
     "output_type": "stream",
     "text": [
      "--------------------------------attentionweight---------------------------------\n"
     ]
    },
    {
     "name": "stderr",
     "output_type": "stream",
     "text": [
      "100%|██████████| 117/117 [00:06<00:00, 18.38it/s]\n"
     ]
    }
   ],
   "source": [
    "# embedding\n",
    "Alpha = anomalyclusteringcore_instance.attentionweight(test_dataloader)\n",
    "Alpha = torch.cat(Alpha, dim=0).reshape([len(Alpha),1,-1]).float().to(device)"
   ]
  },
  {
   "cell_type": "code",
   "execution_count": 162,
   "metadata": {},
   "outputs": [
    {
     "name": "stdout",
     "output_type": "stream",
     "text": [
      "-----------------------------------embedding------------------------------------\n"
     ]
    },
    {
     "name": "stderr",
     "output_type": "stream",
     "text": [
      "100%|██████████| 117/117 [00:18<00:00,  6.34it/s]\n"
     ]
    }
   ],
   "source": [
    "Z, label_test = anomalyclusteringcore_instance.embed(test_dataloader, supervised)\n",
    "Z = torch.tensor(Z).to(device)\n"
   ]
  },
  {
   "cell_type": "code",
   "execution_count": null,
   "metadata": {},
   "outputs": [],
   "source": [
    "Alpha_unsupervised = Matrix_Alpha_Unsupervised(tau=tau,\n",
    "                                               k=1,\n",
    "                                               Z=Z,\n",
    "                                               device=device)"
   ]
  },
  {
   "cell_type": "code",
   "execution_count": 98,
   "metadata": {},
   "outputs": [],
   "source": [
    "Alpha_unsupervised = Alpha_unsupervised.unsqueeze(1).float().to(device)"
   ]
  },
  {
   "cell_type": "code",
   "execution_count": 165,
   "metadata": {},
   "outputs": [
    {
     "data": {
      "image/png": "[encoded data removed]",
      "text/plain": [
       "<PIL.Image.Image image mode=L size=28x28>"
      ]
     },
     "execution_count": 165,
     "metadata": {},
     "output_type": "execute_result"
    }
   ],
   "source": [
    "i = 6\n",
    "unloader = transforms.ToPILImage()\n",
    "\n",
    "Alpha_unsupervised_i = torch.squeeze(Alpha_unsupervised[i])\n",
    "max_Z_i = torch.max(Alpha_unsupervised_i)\n",
    "min_Z_i = torch.min(Alpha_unsupervised_i)\n",
    "Alpha_unsupervised_i = Alpha_unsupervised_i.reshape(int(math.sqrt(len(Alpha_unsupervised_i))),\n",
    "            int(math.sqrt(len(Alpha_unsupervised_i)))).cpu().clone()\n",
    "# Alpha_unsupervised_i = (Alpha_unsupervised_i - min_Z_i) / (max_Z_i - min_Z_i) \n",
    "Alpha_unsupervised_i_PIL = unloader(Alpha_unsupervised_i*255)\n",
    "Alpha_unsupervised_i_PIL"
   ]
  },
  {
   "cell_type": "code",
   "execution_count": null,
   "metadata": {},
   "outputs": [],
   "source": [
    "\n"
   ]
  },
  {
   "cell_type": "code",
   "execution_count": 157,
   "metadata": {},
   "outputs": [
    {
     "data": {
      "text/plain": [
       "tensor(0.0004)"
      ]
     },
     "execution_count": 157,
     "metadata": {},
     "output_type": "execute_result"
    }
   ],
   "source": [
    "torch.min(Alpha_unsupervised_i)"
   ]
  },
  {
   "cell_type": "code",
   "execution_count": 158,
   "metadata": {},
   "outputs": [
    {
     "data": {
      "text/plain": [
       "tensor(1.0000)"
      ]
     },
     "execution_count": 158,
     "metadata": {},
     "output_type": "execute_result"
    }
   ],
   "source": [
    "torch.sum(Alpha_unsupervised_i)"
   ]
  },
  {
   "cell_type": "code",
   "execution_count": 99,
   "metadata": {},
   "outputs": [],
   "source": [
    "X = np.array(torch.bmm(Alpha_unsupervised, Z, out=None).squeeze(1).cpu())"
   ]
  },
  {
   "cell_type": "code",
   "execution_count": 19,
   "metadata": {},
   "outputs": [],
   "source": [
    "# 矩特征提取 \n",
    "# Hu 不变矩 能够表征目标形状，且具备平移、旋转不变性\n",
    "# 可以比较好的区分裂纹和团状缺陷\n",
    "\n",
    "import cv2\n",
    "Xm = []\n",
    "Xmhu = []\n",
    "for i, image_info in enumerate(test_dataloader):\n",
    "    m = image_info['moment']\n",
    "    mhu = image_info['humoment']\n",
    "    Xm.append(torch.cat([m['nu20'],m['nu11'],m['nu02'],m['nu30'],m['nu21'],m['nu12'],m['nu03']]))\n",
    "    Xmhu.append(torch.squeeze(torch.tensor(mhu)))\n",
    "Xm = torch.stack(Xm)\n",
    "Xmhu = torch.stack(Xmhu)"
   ]
  },
  {
   "cell_type": "code",
   "execution_count": 46,
   "metadata": {},
   "outputs": [],
   "source": [
    "XX = torch.cat([torch.tensor(X), Xmhu*100],dim=1)"
   ]
  },
  {
   "cell_type": "code",
   "execution_count": 104,
   "metadata": {},
   "outputs": [
    {
     "name": "stderr",
     "output_type": "stream",
     "text": [
      "Traceback (most recent call last):\n",
      "  File \"_pydevd_bundle/pydevd_cython.pyx\", line 1134, in _pydevd_bundle.pydevd_cython.PyDBFrame.trace_dispatch\n",
      "  File \"_pydevd_bundle/pydevd_cython.pyx\", line 311, in _pydevd_bundle.pydevd_cython.PyDBFrame.do_wait_suspend\n",
      "  File \"C:\\Users\\COLORFUL\\AppData\\Roaming\\Python\\Python39\\site-packages\\debugpy\\_vendored\\pydevd\\pydevd.py\", line 2062, in do_wait_suspend\n",
      "    keep_suspended = self._do_wait_suspend(thread, frame, event, arg, suspend_type, from_this_thread, frames_tracker)\n",
      "  File \"C:\\Users\\COLORFUL\\AppData\\Roaming\\Python\\Python39\\site-packages\\debugpy\\_vendored\\pydevd\\pydevd.py\", line 2098, in _do_wait_suspend\n",
      "    time.sleep(0.01)\n",
      "KeyboardInterrupt\n"
     ]
    },
    {
     "ename": "KeyboardInterrupt",
     "evalue": "",
     "output_type": "error",
     "traceback": [
      "\u001b[1;31m---------------------------------------------------------------------------\u001b[0m",
      "\u001b[1;31mKeyboardInterrupt\u001b[0m                         Traceback (most recent call last)",
      "\u001b[1;32me:\\project\\blade\\Anomaly-Clustering\\Anomaly-Clustering\\clustering.ipynb Cell 11\u001b[0m in \u001b[0;36m<cell line: 3>\u001b[1;34m()\u001b[0m\n\u001b[0;32m      <a href='vscode-notebook-cell:/e%3A/project/blade/Anomaly-Clustering/Anomaly-Clustering/clustering.ipynb#W4sZmlsZQ%3D%3D?line=0'>1</a>\u001b[0m \u001b[39m# featuremap visualize\u001b[39;00m\n\u001b[0;32m      <a href='vscode-notebook-cell:/e%3A/project/blade/Anomaly-Clustering/Anomaly-Clustering/clustering.ipynb#W4sZmlsZQ%3D%3D?line=1'>2</a>\u001b[0m unloader \u001b[39m=\u001b[39m transforms\u001b[39m.\u001b[39mToPILImage()\n\u001b[1;32m----> <a href='vscode-notebook-cell:/e%3A/project/blade/Anomaly-Clustering/Anomaly-Clustering/clustering.ipynb#W4sZmlsZQ%3D%3D?line=2'>3</a>\u001b[0m \u001b[39mfor\u001b[39;00m i, image_info \u001b[39min\u001b[39;00m \u001b[39menumerate\u001b[39;49m(test_dataloader):\n\u001b[0;32m      <a href='vscode-notebook-cell:/e%3A/project/blade/Anomaly-Clustering/Anomaly-Clustering/clustering.ipynb#W4sZmlsZQ%3D%3D?line=3'>4</a>\u001b[0m     Z_i \u001b[39m=\u001b[39m torch\u001b[39m.\u001b[39mmean(Z[i], dim\u001b[39m=\u001b[39m\u001b[39m1\u001b[39m)\n\u001b[0;32m      <a href='vscode-notebook-cell:/e%3A/project/blade/Anomaly-Clustering/Anomaly-Clustering/clustering.ipynb#W4sZmlsZQ%3D%3D?line=4'>5</a>\u001b[0m     max_Z_i \u001b[39m=\u001b[39m \u001b[39mmax\u001b[39m(Z_i)\n",
      "\u001b[1;32me:\\project\\blade\\Anomaly-Clustering\\Anomaly-Clustering\\clustering.ipynb Cell 11\u001b[0m in \u001b[0;36m<cell line: 3>\u001b[1;34m()\u001b[0m\n\u001b[0;32m      <a href='vscode-notebook-cell:/e%3A/project/blade/Anomaly-Clustering/Anomaly-Clustering/clustering.ipynb#W4sZmlsZQ%3D%3D?line=0'>1</a>\u001b[0m \u001b[39m# featuremap visualize\u001b[39;00m\n\u001b[0;32m      <a href='vscode-notebook-cell:/e%3A/project/blade/Anomaly-Clustering/Anomaly-Clustering/clustering.ipynb#W4sZmlsZQ%3D%3D?line=1'>2</a>\u001b[0m unloader \u001b[39m=\u001b[39m transforms\u001b[39m.\u001b[39mToPILImage()\n\u001b[1;32m----> <a href='vscode-notebook-cell:/e%3A/project/blade/Anomaly-Clustering/Anomaly-Clustering/clustering.ipynb#W4sZmlsZQ%3D%3D?line=2'>3</a>\u001b[0m \u001b[39mfor\u001b[39;00m i, image_info \u001b[39min\u001b[39;00m \u001b[39menumerate\u001b[39;49m(test_dataloader):\n\u001b[0;32m      <a href='vscode-notebook-cell:/e%3A/project/blade/Anomaly-Clustering/Anomaly-Clustering/clustering.ipynb#W4sZmlsZQ%3D%3D?line=3'>4</a>\u001b[0m     Z_i \u001b[39m=\u001b[39m torch\u001b[39m.\u001b[39mmean(Z[i], dim\u001b[39m=\u001b[39m\u001b[39m1\u001b[39m)\n\u001b[0;32m      <a href='vscode-notebook-cell:/e%3A/project/blade/Anomaly-Clustering/Anomaly-Clustering/clustering.ipynb#W4sZmlsZQ%3D%3D?line=4'>5</a>\u001b[0m     max_Z_i \u001b[39m=\u001b[39m \u001b[39mmax\u001b[39m(Z_i)\n",
      "File \u001b[1;32m_pydevd_bundle/pydevd_cython.pyx:1443\u001b[0m, in \u001b[0;36m_pydevd_bundle.pydevd_cython.SafeCallWrapper.__call__\u001b[1;34m()\u001b[0m\n",
      "File \u001b[1;32m_pydevd_bundle/pydevd_cython.pyx:700\u001b[0m, in \u001b[0;36m_pydevd_bundle.pydevd_cython.PyDBFrame.trace_dispatch\u001b[1;34m()\u001b[0m\n",
      "File \u001b[1;32m_pydevd_bundle/pydevd_cython.pyx:1143\u001b[0m, in \u001b[0;36m_pydevd_bundle.pydevd_cython.PyDBFrame.trace_dispatch\u001b[1;34m()\u001b[0m\n",
      "File \u001b[1;32m_pydevd_bundle/pydevd_cython.pyx:1134\u001b[0m, in \u001b[0;36m_pydevd_bundle.pydevd_cython.PyDBFrame.trace_dispatch\u001b[1;34m()\u001b[0m\n",
      "File \u001b[1;32m_pydevd_bundle/pydevd_cython.pyx:311\u001b[0m, in \u001b[0;36m_pydevd_bundle.pydevd_cython.PyDBFrame.do_wait_suspend\u001b[1;34m()\u001b[0m\n",
      "File \u001b[1;32m~\\AppData\\Roaming\\Python\\Python39\\site-packages\\debugpy\\_vendored\\pydevd\\pydevd.py:2062\u001b[0m, in \u001b[0;36mPyDB.do_wait_suspend\u001b[1;34m(self, thread, frame, event, arg, exception_type)\u001b[0m\n\u001b[0;32m   2059\u001b[0m             from_this_thread\u001b[39m.\u001b[39mappend(frame_custom_thread_id)\n\u001b[0;32m   2061\u001b[0m     \u001b[39mwith\u001b[39;00m \u001b[39mself\u001b[39m\u001b[39m.\u001b[39m_threads_suspended_single_notification\u001b[39m.\u001b[39mnotify_thread_suspended(thread_id, stop_reason):\n\u001b[1;32m-> 2062\u001b[0m         keep_suspended \u001b[39m=\u001b[39m \u001b[39mself\u001b[39;49m\u001b[39m.\u001b[39;49m_do_wait_suspend(thread, frame, event, arg, suspend_type, from_this_thread, frames_tracker)\n\u001b[0;32m   2064\u001b[0m frames_list \u001b[39m=\u001b[39m \u001b[39mNone\u001b[39;00m\n\u001b[0;32m   2066\u001b[0m \u001b[39mif\u001b[39;00m keep_suspended:\n\u001b[0;32m   2067\u001b[0m     \u001b[39m# This means that we should pause again after a set next statement.\u001b[39;00m\n",
      "File \u001b[1;32m~\\AppData\\Roaming\\Python\\Python39\\site-packages\\debugpy\\_vendored\\pydevd\\pydevd.py:2098\u001b[0m, in \u001b[0;36mPyDB._do_wait_suspend\u001b[1;34m(self, thread, frame, event, arg, suspend_type, from_this_thread, frames_tracker)\u001b[0m\n\u001b[0;32m   2095\u001b[0m         \u001b[39mself\u001b[39m\u001b[39m.\u001b[39m_call_input_hook()\n\u001b[0;32m   2097\u001b[0m     \u001b[39mself\u001b[39m\u001b[39m.\u001b[39mprocess_internal_commands()\n\u001b[1;32m-> 2098\u001b[0m     time\u001b[39m.\u001b[39;49msleep(\u001b[39m0.01\u001b[39;49m)\n\u001b[0;32m   2100\u001b[0m \u001b[39mself\u001b[39m\u001b[39m.\u001b[39mcancel_async_evaluation(get_current_thread_id(thread), \u001b[39mstr\u001b[39m(\u001b[39mid\u001b[39m(frame)))\n\u001b[0;32m   2102\u001b[0m \u001b[39m# process any stepping instructions\u001b[39;00m\n",
      "\u001b[1;31mKeyboardInterrupt\u001b[0m: "
     ]
    }
   ],
   "source": [
    "# featuremap visualize\n",
    "unloader = transforms.ToPILImage()\n",
    "for i, image_info in enumerate(test_dataloader):\n",
    "    Z_i = torch.mean(Z[i], dim=1)\n",
    "    max_Z_i = max(Z_i)\n",
    "    min_Z_i = min(Z_i)\n",
    "    Z_i = Z_i.reshape(int(math.sqrt(len(Z_i))),\n",
    "                      int(math.sqrt(len(Z_i)))).cpu().clone()\n",
    "    Z_i = (Z_i - min_Z_i) / (max_Z_i - min_Z_i)\n",
    "    # we clone the tensor to not do changes on it\n",
    "    Z_i_PIL = unloader(Z_i)\n",
    "    \n",
    "    Alpha_i = torch.squeeze(Alpha[i])\n",
    "    Alpha_i = Alpha_i.reshape(int(math.sqrt(len(Alpha_i))),\n",
    "                int(math.sqrt(len(Alpha_i)))).cpu().clone()\n",
    "    Alpha_i_PIL = unloader(Alpha_i)\n",
    "    \n",
    "    Alpha_unsupervised_i = torch.squeeze(Alpha_unsupervised[i])\n",
    "    Alpha_unsupervised_i = Alpha_unsupervised_i.reshape(int(math.sqrt(len(Alpha_unsupervised_i))),\n",
    "                int(math.sqrt(len(Alpha_unsupervised_i)))).cpu().clone()\n",
    "    Alpha_unsupervised_i_PIL = unloader(Alpha_unsupervised_i)\n",
    "    \n",
    "    image = torch.squeeze(image_info['image'])\n",
    "    \n",
    "    image[0,:,:] = image[0,:,:] * IMAGENET_STD[0] + IMAGENET_MEAN[0]\n",
    "    image[1,:,:] = image[1,:,:] * IMAGENET_STD[1] + IMAGENET_MEAN[1]\n",
    "    image[2,:,:] = image[2,:,:] * IMAGENET_STD[2] + IMAGENET_MEAN[2]\n",
    "    image_PIL = unloader(image)\n",
    "    visualize(image_PIL, Z_i_PIL,Alpha_unsupervised_i_PIL\n",
    "                    ,backbone_names[0] + \"_\" + str(pretrain_embed_dimension) + \"_\" +\n",
    "                    str(target_embed_dimension) + \"_\" + \"_\".join(layers_to_extract_from),\n",
    "                    image_info['anomaly'][0] + '_' + os.path.basename(image_info['image_path'][0]))"
   ]
  },
  {
   "cell_type": "code",
   "execution_count": 105,
   "metadata": {},
   "outputs": [
    {
     "name": "stderr",
     "output_type": "stream",
     "text": [
      "100%|██████████| 117/117 [00:05<00:00, 23.38it/s]"
     ]
    },
    {
     "name": "stdout",
     "output_type": "stream",
     "text": [
      "NMI: 0.8762931089686974\n",
      "ARI: 0.8541106102137416\n",
      "F1:0.9145299145299145\n",
      "\n"
     ]
    },
    {
     "name": "stderr",
     "output_type": "stream",
     "text": [
      "\n"
     ]
    }
   ],
   "source": [
    "# clustering\n",
    "le = LabelEncoder()\n",
    "label = []\n",
    "with tqdm(total=len(test_dataloader)) as progress:\n",
    "    for image in test_dataloader:\n",
    "        if isinstance(image, dict):\n",
    "            anomaly = image[\"anomaly\"]\n",
    "        with torch.no_grad():\n",
    "            label.append(anomaly)\n",
    "        progress.update(1)\n",
    "label = le.fit_transform(label).astype(int)\n",
    "n_clusters = len(set(label))\n",
    "# n_clusters = 10\n",
    "model = cluster.AgglomerativeClustering(n_clusters=n_clusters)\n",
    "predict = model.fit_predict(X)\n",
    "predict = best_map(label, predict).astype(int)\n",
    "\n",
    "NMI = metrics.normalized_mutual_info_score(label, predict)\n",
    "ARI = metrics.adjusted_rand_score(label, predict)\n",
    "F1 = metrics.f1_score(label, predict, average=\"micro\")\n",
    "print(f'NMI: {NMI}')\n",
    "print(f'ARI: {ARI}')\n",
    "print(f'F1:{F1}\\n')\n",
    "\n"
   ]
  },
  {
   "cell_type": "code",
   "execution_count": 90,
   "metadata": {},
   "outputs": [
    {
     "name": "stderr",
     "output_type": "stream",
     "text": [
      "  0%|          | 0/117 [00:00<?, ?it/s]"
     ]
    },
    {
     "name": "stdout",
     "output_type": "stream",
     "text": [
      "0 正在将 data/mvtec_ad\\tile\\test\\crack\\000.png 复制到 out\\mvtec_ad/w_2048_4096_layer2\\tile\\0\\crack_000.png\n",
      "1 正在将 data/mvtec_ad\\tile\\test\\crack\\001.png 复制到 out\\mvtec_ad/w_2048_4096_layer2\\tile\\0\\crack_001.png\n",
      "2 正在将 data/mvtec_ad\\tile\\test\\crack\\002.png 复制到 out\\mvtec_ad/w_2048_4096_layer2\\tile\\0\\crack_002.png\n",
      "3 正在将 data/mvtec_ad\\tile\\test\\crack\\003.png 复制到 out\\mvtec_ad/w_2048_4096_layer2\\tile\\0\\crack_003.png\n",
      "4 正在将 data/mvtec_ad\\tile\\test\\crack\\004.png 复制到 out\\mvtec_ad/w_2048_4096_layer2\\tile\\0\\crack_004.png\n",
      "5 正在将 data/mvtec_ad\\tile\\test\\crack\\005.png 复制到 out\\mvtec_ad/w_2048_4096_layer2\\tile\\0\\crack_005.png\n",
      "6 正在将 data/mvtec_ad\\tile\\test\\crack\\006.png 复制到 out\\mvtec_ad/w_2048_4096_layer2\\tile\\0\\crack_006.png\n",
      "7 正在将 data/mvtec_ad\\tile\\test\\crack\\007.png 复制到 out\\mvtec_ad/w_2048_4096_layer2\\tile\\0\\crack_007.png\n",
      "8 正在将 data/mvtec_ad\\tile\\test\\crack\\008.png 复制到 out\\mvtec_ad/w_2048_4096_layer2\\tile\\0\\crack_008.png\n",
      "9 正在将 data/mvtec_ad\\tile\\test\\crack\\009.png 复制到 out\\mvtec_ad/w_2048_4096_layer2\\tile\\0\\crack_009.png\n",
      "10 正在将 data/mvtec_ad\\tile\\test\\crack\\010.png 复制到 out\\mvtec_ad/w_2048_4096_layer2\\tile\\0\\crack_010.png\n",
      "11 正在将 data/mvtec_ad\\tile\\test\\crack\\011.png 复制到 out\\mvtec_ad/w_2048_4096_layer2\\tile\\0\\crack_011.png\n",
      "12 正在将 data/mvtec_ad\\tile\\test\\crack\\012.png 复制到 out\\mvtec_ad/w_2048_4096_layer2\\tile\\0\\crack_012.png\n",
      "13 正在将 data/mvtec_ad\\tile\\test\\crack\\013.png 复制到 out\\mvtec_ad/w_2048_4096_layer2\\tile\\0\\crack_013.png\n",
      "14 正在将 data/mvtec_ad\\tile\\test\\crack\\014.png 复制到 out\\mvtec_ad/w_2048_4096_layer2\\tile\\0\\crack_014.png\n",
      "15 正在将 data/mvtec_ad\\tile\\test\\crack\\015.png 复制到 out\\mvtec_ad/w_2048_4096_layer2\\tile\\3\\crack_015.png\n",
      "16 正在将 data/mvtec_ad\\tile\\test\\crack\\016.png 复制到 out\\mvtec_ad/w_2048_4096_layer2\\tile\\0\\crack_016.png\n",
      "17 正在将 data/mvtec_ad\\tile\\test\\glue_strip\\000.png 复制到 out\\mvtec_ad/w_2048_4096_layer2\\tile\\1\\glue_strip_000.png\n",
      "18 正在将 data/mvtec_ad\\tile\\test\\glue_strip\\001.png 复制到 out\\mvtec_ad/w_2048_4096_layer2\\tile\\1\\glue_strip_001.png\n",
      "19 正在将 data/mvtec_ad\\tile\\test\\glue_strip\\002.png 复制到 out\\mvtec_ad/w_2048_4096_layer2\\tile\\1\\glue_strip_002.png\n",
      "20 正在将 data/mvtec_ad\\tile\\test\\glue_strip\\003.png 复制到 out\\mvtec_ad/w_2048_4096_layer2\\tile\\1\\glue_strip_003.png\n",
      "21 正在将 data/mvtec_ad\\tile\\test\\glue_strip\\004.png 复制到 out\\mvtec_ad/w_2048_4096_layer2\\tile\\1\\glue_strip_004.png\n",
      "22 正在将 data/mvtec_ad\\tile\\test\\glue_strip\\005.png 复制到 out\\mvtec_ad/w_2048_4096_layer2\\tile\\1\\glue_strip_005.png\n",
      "23 正在将 data/mvtec_ad\\tile\\test\\glue_strip\\006.png 复制到 out\\mvtec_ad/w_2048_4096_layer2\\tile\\1\\glue_strip_006.png\n",
      "24 正在将 data/mvtec_ad\\tile\\test\\glue_strip\\007.png 复制到 out\\mvtec_ad/w_2048_4096_layer2\\tile\\1\\glue_strip_007.png\n",
      "25 正在将 data/mvtec_ad\\tile\\test\\glue_strip\\008.png 复制到 out\\mvtec_ad/w_2048_4096_layer2\\tile\\1\\glue_strip_008.png\n",
      "26 正在将 data/mvtec_ad\\tile\\test\\glue_strip\\009.png 复制到 out\\mvtec_ad/w_2048_4096_layer2\\tile\\1\\glue_strip_009.png\n",
      "27 正在将 data/mvtec_ad\\tile\\test\\glue_strip\\010.png 复制到 out\\mvtec_ad/w_2048_4096_layer2\\tile\\1\\glue_strip_010.png\n",
      "28 正在将 data/mvtec_ad\\tile\\test\\glue_strip\\011.png 复制到 out\\mvtec_ad/w_2048_4096_layer2\\tile\\1\\glue_strip_011.png\n",
      "29 正在将 data/mvtec_ad\\tile\\test\\glue_strip\\012.png 复制到 out\\mvtec_ad/w_2048_4096_layer2\\tile\\1\\glue_strip_012.png\n",
      "30 正在将 data/mvtec_ad\\tile\\test\\glue_strip\\013.png 复制到 out\\mvtec_ad/w_2048_4096_layer2\\tile\\1\\glue_strip_013.png\n",
      "31 正在将 data/mvtec_ad\\tile\\test\\glue_strip\\014.png 复制到 out\\mvtec_ad/w_2048_4096_layer2\\tile\\1\\glue_strip_014.png\n",
      "32 正在将 data/mvtec_ad\\tile\\test\\glue_strip\\015.png 复制到 out\\mvtec_ad/w_2048_4096_layer2\\tile\\1\\glue_strip_015.png\n",
      "33 正在将 data/mvtec_ad\\tile\\test\\glue_strip\\016.png 复制到 out\\mvtec_ad/w_2048_4096_layer2\\tile\\1\\glue_strip_016.png\n",
      "34 正在将 data/mvtec_ad\\tile\\test\\glue_strip\\017.png 复制到 out\\mvtec_ad/w_2048_4096_layer2\\tile\\1\\glue_strip_017.png\n",
      "35 正在将 data/mvtec_ad\\tile\\test\\good\\000.png 复制到 out\\mvtec_ad/w_2048_4096_layer2\\tile\\2\\good_000.png\n",
      "36 正在将 data/mvtec_ad\\tile\\test\\good\\001.png 复制到 out\\mvtec_ad/w_2048_4096_layer2\\tile\\2\\good_001.png\n",
      "37 正在将 data/mvtec_ad\\tile\\test\\good\\002.png 复制到 out\\mvtec_ad/w_2048_4096_layer2\\tile\\2\\good_002.png\n",
      "38 正在将 data/mvtec_ad\\tile\\test\\good\\003.png 复制到 out\\mvtec_ad/w_2048_4096_layer2\\tile\\2\\good_003.png\n",
      "39 正在将 data/mvtec_ad\\tile\\test\\good\\004.png 复制到 out\\mvtec_ad/w_2048_4096_layer2\\tile\\2\\good_004.png\n",
      "40 正在将 data/mvtec_ad\\tile\\test\\good\\005.png 复制到 out\\mvtec_ad/w_2048_4096_layer2\\tile\\2\\good_005.png\n",
      "41 正在将 data/mvtec_ad\\tile\\test\\good\\006.png 复制到 out\\mvtec_ad/w_2048_4096_layer2\\tile\\2\\good_006.png\n",
      "42 正在将 data/mvtec_ad\\tile\\test\\good\\007.png 复制到 out\\mvtec_ad/w_2048_4096_layer2\\tile\\2\\good_007.png\n",
      "43 正在将 data/mvtec_ad\\tile\\test\\good\\008.png 复制到 out\\mvtec_ad/w_2048_4096_layer2\\tile\\2\\good_008.png\n",
      "44 正在将 data/mvtec_ad\\tile\\test\\good\\009.png 复制到 out\\mvtec_ad/w_2048_4096_layer2\\tile\\3\\good_009.png\n",
      "45 正在将 data/mvtec_ad\\tile\\test\\good\\010.png 复制到 out\\mvtec_ad/w_2048_4096_layer2\\tile\\2\\good_010.png\n",
      "46 正在将 data/mvtec_ad\\tile\\test\\good\\011.png 复制到 out\\mvtec_ad/w_2048_4096_layer2\\tile\\2\\good_011.png\n",
      "47 正在将 data/mvtec_ad\\tile\\test\\good\\012.png 复制到 out\\mvtec_ad/w_2048_4096_layer2\\tile\\2\\good_012.png\n",
      "48 正在将 data/mvtec_ad\\tile\\test\\good\\013.png 复制到 out\\mvtec_ad/w_2048_4096_layer2\\tile\\2\\good_013.png\n",
      "49 正在将 data/mvtec_ad\\tile\\test\\good\\014.png 复制到 out\\mvtec_ad/w_2048_4096_layer2\\tile\\2\\good_014.png\n",
      "50 正在将 data/mvtec_ad\\tile\\test\\good\\015.png 复制到 out\\mvtec_ad/w_2048_4096_layer2\\tile\\2\\good_015.png\n",
      "51 正在将 data/mvtec_ad\\tile\\test\\good\\016.png 复制到 out\\mvtec_ad/w_2048_4096_layer2\\tile\\2\\good_016.png\n",
      "52 正在将 data/mvtec_ad\\tile\\test\\good\\017.png 复制到 out\\mvtec_ad/w_2048_4096_layer2\\tile\\2\\good_017.png\n",
      "53 正在将 data/mvtec_ad\\tile\\test\\good\\018.png 复制到 out\\mvtec_ad/w_2048_4096_layer2\\tile\\2\\good_018.png\n",
      "54 正在将 data/mvtec_ad\\tile\\test\\good\\019.png 复制到 out\\mvtec_ad/w_2048_4096_layer2\\tile\\2\\good_019.png\n",
      "55 正在将 data/mvtec_ad\\tile\\test\\good\\020.png 复制到 out\\mvtec_ad/w_2048_4096_layer2\\tile\\2\\good_020.png\n",
      "56 正在将 data/mvtec_ad\\tile\\test\\good\\021.png 复制到 out\\mvtec_ad/w_2048_4096_layer2\\tile\\2\\good_021.png\n",
      "57 正在将 data/mvtec_ad\\tile\\test\\good\\022.png 复制到 out\\mvtec_ad/w_2048_4096_layer2\\tile\\2\\good_022.png\n",
      "58 正在将 data/mvtec_ad\\tile\\test\\good\\023.png 复制到 out\\mvtec_ad/w_2048_4096_layer2\\tile\\2\\good_023.png\n",
      "59 正在将 data/mvtec_ad\\tile\\test\\good\\024.png 复制到 out\\mvtec_ad/w_2048_4096_layer2\\tile\\2\\good_024.png\n",
      "60 正在将 data/mvtec_ad\\tile\\test\\good\\025.png 复制到 out\\mvtec_ad/w_2048_4096_layer2\\tile\\2\\good_025.png\n",
      "61 正在将 data/mvtec_ad\\tile\\test\\good\\026.png 复制到 out\\mvtec_ad/w_2048_4096_layer2\\tile\\2\\good_026.png\n",
      "62 正在将 data/mvtec_ad\\tile\\test\\good\\027.png 复制到 out\\mvtec_ad/w_2048_4096_layer2\\tile\\2\\good_027.png\n",
      "63 正在将 data/mvtec_ad\\tile\\test\\good\\028.png 复制到 out\\mvtec_ad/w_2048_4096_layer2\\tile\\3\\good_028.png\n",
      "64 正在将 data/mvtec_ad\\tile\\test\\good\\029.png 复制到 out\\mvtec_ad/w_2048_4096_layer2\\tile\\2\\good_029.png\n",
      "65 正在将 data/mvtec_ad\\tile\\test\\good\\030.png 复制到 out\\mvtec_ad/w_2048_4096_layer2\\tile\\2\\good_030.png\n",
      "66 正在将 data/mvtec_ad\\tile\\test\\good\\031.png 复制到 out\\mvtec_ad/w_2048_4096_layer2\\tile\\2\\good_031.png\n",
      "67 正在将 data/mvtec_ad\\tile\\test\\good\\032.png 复制到 out\\mvtec_ad/w_2048_4096_layer2\\tile\\2\\good_032.png\n",
      "68 正在将 data/mvtec_ad\\tile\\test\\gray_stroke\\000.png 复制到 out\\mvtec_ad/w_2048_4096_layer2\\tile\\3\\gray_stroke_000.png\n",
      "69 正在将 data/mvtec_ad\\tile\\test\\gray_stroke\\001.png 复制到 out\\mvtec_ad/w_2048_4096_layer2\\tile\\3\\gray_stroke_001.png\n",
      "70 正在将 data/mvtec_ad\\tile\\test\\gray_stroke\\002.png 复制到 out\\mvtec_ad/w_2048_4096_layer2\\tile\\3\\gray_stroke_002.png\n",
      "71 正在将 data/mvtec_ad\\tile\\test\\gray_stroke\\003.png 复制到 out\\mvtec_ad/w_2048_4096_layer2\\tile\\3\\gray_stroke_003.png\n",
      "72 正在将 data/mvtec_ad\\tile\\test\\gray_stroke\\004.png 复制到 out\\mvtec_ad/w_2048_4096_layer2\\tile\\3\\gray_stroke_004.png\n",
      "73 正在将 data/mvtec_ad\\tile\\test\\gray_stroke\\005.png 复制到 out\\mvtec_ad/w_2048_4096_layer2\\tile\\3\\gray_stroke_005.png\n",
      "74 正在将 data/mvtec_ad\\tile\\test\\gray_stroke\\006.png 复制到 out\\mvtec_ad/w_2048_4096_layer2\\tile\\3\\gray_stroke_006.png\n",
      "75 正在将 data/mvtec_ad\\tile\\test\\gray_stroke\\007.png 复制到 out\\mvtec_ad/w_2048_4096_layer2\\tile\\3\\gray_stroke_007.png\n",
      "76 正在将 data/mvtec_ad\\tile\\test\\gray_stroke\\008.png 复制到 out\\mvtec_ad/w_2048_4096_layer2\\tile\\3\\gray_stroke_008.png\n",
      "77 正在将 data/mvtec_ad\\tile\\test\\gray_stroke\\009.png 复制到 out\\mvtec_ad/w_2048_4096_layer2\\tile\\3\\gray_stroke_009.png\n",
      "78 正在将 data/mvtec_ad\\tile\\test\\gray_stroke\\010.png 复制到 out\\mvtec_ad/w_2048_4096_layer2\\tile\\3\\gray_stroke_010.png\n",
      "79 正在将 data/mvtec_ad\\tile\\test\\gray_stroke\\011.png 复制到 out\\mvtec_ad/w_2048_4096_layer2\\tile\\3\\gray_stroke_011.png\n",
      "80 正在将 data/mvtec_ad\\tile\\test\\gray_stroke\\012.png 复制到 out\\mvtec_ad/w_2048_4096_layer2\\tile\\3\\gray_stroke_012.png\n",
      "81 正在将 data/mvtec_ad\\tile\\test\\gray_stroke\\013.png 复制到 out\\mvtec_ad/w_2048_4096_layer2\\tile\\3\\gray_stroke_013.png\n",
      "82 正在将 data/mvtec_ad\\tile\\test\\gray_stroke\\014.png 复制到 out\\mvtec_ad/w_2048_4096_layer2\\tile\\3\\gray_stroke_014.png\n",
      "83 正在将 data/mvtec_ad\\tile\\test\\gray_stroke\\015.png 复制到 out\\mvtec_ad/w_2048_4096_layer2\\tile\\3\\gray_stroke_015.png\n",
      "84 正在将 data/mvtec_ad\\tile\\test\\oil\\000.png 复制到 out\\mvtec_ad/w_2048_4096_layer2\\tile\\4\\oil_000.png\n",
      "85 正在将 data/mvtec_ad\\tile\\test\\oil\\001.png 复制到 out\\mvtec_ad/w_2048_4096_layer2\\tile\\4\\oil_001.png\n",
      "86 正在将 data/mvtec_ad\\tile\\test\\oil\\002.png 复制到 out\\mvtec_ad/w_2048_4096_layer2\\tile\\4\\oil_002.png\n",
      "87 正在将 data/mvtec_ad\\tile\\test\\oil\\003.png 复制到 out\\mvtec_ad/w_2048_4096_layer2\\tile\\4\\oil_003.png\n",
      "88 正在将 data/mvtec_ad\\tile\\test\\oil\\004.png 复制到 out\\mvtec_ad/w_2048_4096_layer2\\tile\\4\\oil_004.png\n",
      "89 正在将 data/mvtec_ad\\tile\\test\\oil\\005.png 复制到 out\\mvtec_ad/w_2048_4096_layer2\\tile\\4\\oil_005.png\n",
      "90 正在将 data/mvtec_ad\\tile\\test\\oil\\006.png 复制到 out\\mvtec_ad/w_2048_4096_layer2\\tile\\4\\oil_006.png\n",
      "91 正在将 data/mvtec_ad\\tile\\test\\oil\\007.png 复制到 out\\mvtec_ad/w_2048_4096_layer2\\tile\\4\\oil_007.png\n",
      "92 正在将 data/mvtec_ad\\tile\\test\\oil\\008.png 复制到 out\\mvtec_ad/w_2048_4096_layer2\\tile\\4\\oil_008.png\n",
      "93 正在将 data/mvtec_ad\\tile\\test\\oil\\009.png 复制到 out\\mvtec_ad/w_2048_4096_layer2\\tile\\4\\oil_009.png\n",
      "94 正在将 data/mvtec_ad\\tile\\test\\oil\\010.png 复制到 out\\mvtec_ad/w_2048_4096_layer2\\tile\\4\\oil_010.png\n",
      "95 正在将 data/mvtec_ad\\tile\\test\\oil\\011.png 复制到 out\\mvtec_ad/w_2048_4096_layer2\\tile\\4\\oil_011.png\n",
      "96 正在将 data/mvtec_ad\\tile\\test\\oil\\012.png 复制到 out\\mvtec_ad/w_2048_4096_layer2\\tile\\4\\oil_012.png\n",
      "97 正在将 data/mvtec_ad\\tile\\test\\oil\\013.png 复制到 out\\mvtec_ad/w_2048_4096_layer2\\tile\\4\\oil_013.png\n",
      "98 正在将 data/mvtec_ad\\tile\\test\\oil\\014.png 复制到 out\\mvtec_ad/w_2048_4096_layer2\\tile\\4\\oil_014.png\n",
      "99 正在将 data/mvtec_ad\\tile\\test\\oil\\015.png 复制到 out\\mvtec_ad/w_2048_4096_layer2\\tile\\4\\oil_015.png\n",
      "100 正在将 data/mvtec_ad\\tile\\test\\oil\\016.png 复制到 out\\mvtec_ad/w_2048_4096_layer2\\tile\\4\\oil_016.png\n",
      "101 正在将 data/mvtec_ad\\tile\\test\\oil\\017.png 复制到 out\\mvtec_ad/w_2048_4096_layer2\\tile\\4\\oil_017.png\n",
      "102 正在将 data/mvtec_ad\\tile\\test\\rough\\000.png 复制到 out\\mvtec_ad/w_2048_4096_layer2\\tile\\1\\rough_000.png\n",
      "103 正在将 data/mvtec_ad\\tile\\test\\rough\\001.png 复制到 out\\mvtec_ad/w_2048_4096_layer2\\tile\\1\\rough_001.png\n",
      "104 正在将 data/mvtec_ad\\tile\\test\\rough\\002.png 复制到 out\\mvtec_ad/w_2048_4096_layer2\\tile\\1\\rough_002.png\n",
      "105 正在将 data/mvtec_ad\\tile\\test\\rough\\003.png 复制到 out\\mvtec_ad/w_2048_4096_layer2\\tile\\1\\rough_003.png\n",
      "106 正在将 data/mvtec_ad\\tile\\test\\rough\\004.png 复制到 out\\mvtec_ad/w_2048_4096_layer2\\tile\\5\\rough_004.png\n",
      "107 正在将 data/mvtec_ad\\tile\\test\\rough\\005.png 复制到 out\\mvtec_ad/w_2048_4096_layer2\\tile\\5\\rough_005.png\n",
      "108 正在将 data/mvtec_ad\\tile\\test\\rough\\006.png 复制到 out\\mvtec_ad/w_2048_4096_layer2\\tile\\5\\rough_006.png\n",
      "109 正在将 data/mvtec_ad\\tile\\test\\rough\\007.png 复制到 out\\mvtec_ad/w_2048_4096_layer2\\tile\\5\\rough_007.png\n",
      "110 正在将 data/mvtec_ad\\tile\\test\\rough\\008.png 复制到 out\\mvtec_ad/w_2048_4096_layer2\\tile\\5\\rough_008.png\n",
      "111 正在将 data/mvtec_ad\\tile\\test\\rough\\009.png 复制到 out\\mvtec_ad/w_2048_4096_layer2\\tile\\5\\rough_009.png\n",
      "112 正在将 data/mvtec_ad\\tile\\test\\rough\\010.png 复制到 out\\mvtec_ad/w_2048_4096_layer2\\tile\\5\\rough_010.png\n",
      "113 正在将 data/mvtec_ad\\tile\\test\\rough\\011.png 复制到 out\\mvtec_ad/w_2048_4096_layer2\\tile\\5\\rough_011.png\n",
      "114 正在将 data/mvtec_ad\\tile\\test\\rough\\012.png 复制到 out\\mvtec_ad/w_2048_4096_layer2\\tile\\5\\rough_012.png\n",
      "115 正在将 data/mvtec_ad\\tile\\test\\rough\\013.png 复制到 out\\mvtec_ad/w_2048_4096_layer2\\tile\\1\\rough_013.png\n"
     ]
    },
    {
     "name": "stderr",
     "output_type": "stream",
     "text": [
      "  0%|          | 0/117 [00:05<?, ?it/s]"
     ]
    },
    {
     "name": "stdout",
     "output_type": "stream",
     "text": [
      "116 正在将 data/mvtec_ad\\tile\\test\\rough\\014.png 复制到 out\\mvtec_ad/w_2048_4096_layer2\\tile\\5\\rough_014.png\n"
     ]
    },
    {
     "name": "stderr",
     "output_type": "stream",
     "text": [
      "\n"
     ]
    }
   ],
   "source": [
    "# 将图片分类到不同文件夹\n",
    "with tqdm(total=len(test_dataloader)) as progress:\n",
    "    for i, image in enumerate(test_dataloader):\n",
    "        predict_cur = predict[i]\n",
    "        old_file_path = image[\"image_path\"][0]\n",
    "        file_name = os.path.basename(old_file_path)\n",
    "        new_file_path = os.path.join(\"out\\\\\" + dataset + \"/\" + backbone_names[0] + \"_\" + str(pretrain_embed_dimension) + \"_\" +\n",
    "                                    str(target_embed_dimension) + \"_\" + \"_\".join(layers_to_extract_from), image[\"classname\"][0], str(predict_cur))\n",
    "        # 如果路径不存在，则创建\n",
    "        if not os.path.exists(new_file_path):\n",
    "            os.makedirs(new_file_path)\n",
    "        # 新文件位置\n",
    "        new_file_path = os.path.join(new_file_path, image[\"anomaly\"][0] + \"_\" + file_name)\n",
    "        print(str(i) + \" 正在将 \" + old_file_path + \" 复制到 \" + new_file_path)\n",
    "        # 复制文件\n",
    "        shutil.copyfile(old_file_path, new_file_path)"
   ]
  },
  {
   "cell_type": "code",
   "execution_count": 91,
   "metadata": {},
   "outputs": [
    {
     "data": {
      "image/png": "[encoded data removed]",
      "text/plain": [
       "<Figure size 640x480 with 1 Axes>"
      ]
     },
     "metadata": {},
     "output_type": "display_data"
    }
   ],
   "source": [
    "# TSNE\n",
    "tsne=TSNE(n_components=2,random_state=2023)\n",
    "tsne.fit_transform(X)\n",
    "\n",
    "tsne=pd.DataFrame(tsne.embedding_) #转换数据格式\n",
    "\n",
    "color = ['r.','go','b*','k.','co','y*','c.','mo','c*','m.']\n",
    "for c in range(n_clusters):\n",
    "    d = tsne[predict==c]\n",
    "    plt.plot(d[0],d[1],color[c])\n",
    "plt.show()"
   ]
  },
  {
   "cell_type": "code",
   "execution_count": 92,
   "metadata": {},
   "outputs": [
    {
     "data": {
      "image/png": "[encoded data removed]",
      "text/plain": [
       "<Figure size 640x480 with 1 Axes>"
      ]
     },
     "metadata": {},
     "output_type": "display_data"
    }
   ],
   "source": [
    "for c in range(n_clusters):\n",
    "    d = tsne[label==c]\n",
    "    plt.plot(d[0],d[1],color[c])\n",
    "plt.show()"
   ]
  },
  {
   "cell_type": "code",
   "execution_count": null,
   "metadata": {},
   "outputs": [],
   "source": [
    "tsne=TSNE(n_components=3,random_state=2023)\n",
    "tsne.fit_transform(Xmhu)\n",
    "\n",
    "tsne=pd.DataFrame(tsne.embedding_) #转换数据格式\n",
    "\n",
    "\n",
    "color = ['r','g','b','k','c','y','c','m']\n",
    "marker = ['o','*','.','o','*','.','o','*','.']\n",
    "ax = plt.subplot(111, projection='3d')\n",
    "for c in range(n_clusters):\n",
    "    d = tsne[label==c]\n",
    "    ax.scatter(d[0],d[1],d[2],c=color[c],marker=marker[c])\n",
    "plt.show()"
   ]
  },
  {
   "cell_type": "code",
   "execution_count": null,
   "metadata": {},
   "outputs": [],
   "source": []
  },
  {
   "cell_type": "code",
   "execution_count": null,
   "metadata": {},
   "outputs": [],
   "source": []
  },
  {
   "cell_type": "code",
   "execution_count": null,
   "metadata": {},
   "outputs": [],
   "source": []
  },
  {
   "cell_type": "code",
   "execution_count": null,
   "metadata": {},
   "outputs": [],
   "source": []
  },
  {
   "cell_type": "code",
   "execution_count": null,
   "metadata": {},
   "outputs": [],
   "source": []
  },
  {
   "cell_type": "code",
   "execution_count": null,
   "metadata": {},
   "outputs": [],
   "source": []
  }
 ],
 "metadata": {
  "kernelspec": {
   "display_name": "megaAL",
   "language": "python",
   "name": "python3"
  },
  "language_info": {
   "codemirror_mode": {
    "name": "ipython",
    "version": 3
   },
   "file_extension": ".py",
   "mimetype": "text/x-python",
   "name": "python",
   "nbconvert_exporter": "python",
   "pygments_lexer": "ipython3",
   "version": "3.8.16 | packaged by conda-forge | (default, Feb  1 2023, 15:53:35) [MSC v.1929 64 bit (AMD64)]"
  },
  "orig_nbformat": 4,
  "vscode": {
   "interpreter": {
    "hash": "710a774d98ebdc911134ba7addc95fc8f662fd0ec927e7f7e852d2045c76f138"
   }
  }
 },
 "nbformat": 4,
 "nbformat_minor": 2
}
